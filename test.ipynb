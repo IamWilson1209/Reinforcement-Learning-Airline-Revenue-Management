{
 "cells": [
  {
   "cell_type": "code",
   "execution_count": 3,
   "id": "b83429fd-5aac-4ee1-9e19-44fac796f7d2",
   "metadata": {},
   "outputs": [],
   "source": [
    "from typing import Optional\n",
    "import torch\n",
    "from torch.distributions.categorical import Categorical\n",
    "from torch import einsum\n",
    "from einops import reduce"
   ]
  },
  {
   "cell_type": "code",
   "execution_count": 4,
   "id": "fc1e5aa7-8c7c-4422-953c-001ad04118a3",
   "metadata": {},
   "outputs": [],
   "source": [
    "class CategoricalMasked(Categorical):\n",
    "    def __init__(self, logits: torch.Tensor, mask: Optional[torch.Tensor] = None):\n",
    "        self.mask = mask\n",
    "        self.batch, self.nb_action = logits.size()\n",
    "        if mask is None:\n",
    "            super(CategoricalMasked, self).__init__(logits=logits)\n",
    "        else:\n",
    "            self.mask_value = torch.tensor(\n",
    "                torch.finfo(logits.dtype).min, dtype=logits.dtype\n",
    "            )\n",
    "            logits = torch.where(self.mask, logits, self.mask_value)\n",
    "            super(CategoricalMasked, self).__init__(logits=logits)\n",
    "\n",
    "    def entropy(self):\n",
    "        if self.mask is None:\n",
    "            return super().entropy()\n",
    "        # Elementwise multiplication\n",
    "        p_log_p = einsum(\"ij,ij->ij\", self.logits, self.probs)\n",
    "        # Compute the entropy with possible action only\n",
    "        p_log_p = torch.where(\n",
    "            self.mask,\n",
    "            p_log_p,\n",
    "            torch.tensor(0, dtype=p_log_p.dtype, device=p_log_p.device),\n",
    "        )\n",
    "        return -reduce(p_log_p, \"b a -> b\", \"sum\", b=self.batch, a=self.nb_action)\n"
   ]
  },
  {
   "cell_type": "code",
   "execution_count": 5,
   "id": "e634659a-07ae-4626-876b-708410a821d6",
   "metadata": {},
   "outputs": [
    {
     "name": "stdout",
     "output_type": "stream",
     "text": [
      "tensor([[ 0.3031, -0.2697, -0.0426],\n",
      "        [-1.8454, -1.9453,  0.3548]], requires_grad=True)\n",
      "tensor([[False, False,  True],\n",
      "        [ True,  True, False]])\n"
     ]
    }
   ],
   "source": [
    "logits_or_qvalues = torch.randn((2, 3), requires_grad=True) # batch size, nb action\n",
    "print(logits_or_qvalues) \n",
    "# tensor([[-1.8222,  1.0769, -0.6567],\n",
    "#         [-0.6729,  0.1665, -1.7856]])\n",
    "\n",
    "mask = torch.zeros((2, 3), dtype=torch.bool) # batch size, nb action\n",
    "mask[0][2] = True\n",
    "mask[1][0] = True\n",
    "mask[1][1] = True\n",
    "print(mask) # False -> mask action \n",
    "# tensor([[False, False,  True],\n",
    "#         [ True,  True, False]])"
   ]
  },
  {
   "cell_type": "code",
   "execution_count": 6,
   "id": "f24d289e-86e5-4e41-9729-769f34368b13",
   "metadata": {},
   "outputs": [
    {
     "name": "stdout",
     "output_type": "stream",
     "text": [
      "tensor([[0.4402, 0.2483, 0.3115],\n",
      "        [0.0915, 0.0828, 0.8257]], grad_fn=<SoftmaxBackward0>)\n",
      "tensor([[0.0000, 0.0000, 1.0000],\n",
      "        [0.5250, 0.4750, 0.0000]], grad_fn=<SoftmaxBackward0>)\n",
      "tensor([1.0704, 0.5831], grad_fn=<NegBackward0>)\n",
      "tensor([-0.0000, 0.6919], grad_fn=<NegBackward0>)\n"
     ]
    }
   ],
   "source": [
    "head = CategoricalMasked(logits=logits_or_qvalues)\n",
    "print(head.probs) # Impossible action are not masked\n",
    "# tensor([[0.0447, 0.8119, 0.1434], There remain 3 actions available\n",
    "#         [0.2745, 0.6353, 0.0902]]) There remain 3 actions available\n",
    "\n",
    "head_masked = CategoricalMasked(logits=logits_or_qvalues, mask=mask)\n",
    "print(head_masked.probs) # Impossible action are  masked\n",
    "# tensor([[0.0000, 0.0000, 1.0000], There remain 1 actions available\n",
    "#         [0.3017, 0.6983, 0.0000]]) There remain 2 actions available\n",
    "\n",
    "print(head.entropy())\n",
    "# tensor([0.5867, 0.8601])\n",
    "\n",
    "print(head_masked.entropy())\n",
    "# tensor([-0.0000, 0.6123])"
   ]
  },
  {
   "cell_type": "code",
   "execution_count": 11,
   "id": "b903572e-e4e5-448f-becd-07e83006c617",
   "metadata": {},
   "outputs": [
    {
     "name": "stdout",
     "output_type": "stream",
     "text": [
      "{'Y': 880.0000000000001, 'M': 500, 'K': 495.00000000000006}\n"
     ]
    }
   ],
   "source": [
    "# 定義字典\n",
    "example_dict = {'Y': 800, 'M': 500, 'K': 450}\n",
    "\n",
    "# 定義乘法因子列表\n",
    "factor_list = [1.1, 1, 1.1]\n",
    "\n",
    "# 遍歷字典並對每個值進行乘法操作\n",
    "result_dict = {key: value * factor_list[i] for i, (key, value) in enumerate(example_dict.items())}\n",
    "\n",
    "print(result_dict)\n"
   ]
  },
  {
   "cell_type": "code",
   "execution_count": null,
   "id": "1cbf3925-634c-4ffa-9727-93e29451faae",
   "metadata": {},
   "outputs": [],
   "source": []
  }
 ],
 "metadata": {
  "kernelspec": {
   "display_name": "Python 3 (ipykernel)",
   "language": "python",
   "name": "python3"
  },
  "language_info": {
   "codemirror_mode": {
    "name": "ipython",
    "version": 3
   },
   "file_extension": ".py",
   "mimetype": "text/x-python",
   "name": "python",
   "nbconvert_exporter": "python",
   "pygments_lexer": "ipython3",
   "version": "3.11.8"
  }
 },
 "nbformat": 4,
 "nbformat_minor": 5
}
